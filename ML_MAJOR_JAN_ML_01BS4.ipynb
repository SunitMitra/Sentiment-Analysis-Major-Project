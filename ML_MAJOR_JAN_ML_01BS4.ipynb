{
  "nbformat": 4,
  "nbformat_minor": 0,
  "metadata": {
    "colab": {
      "name": "Copy of ML-MAJOR-JAN-ML-01BS4.ipynb",
      "provenance": [],
      "authorship_tag": "ABX9TyNm/fUpZjr90EksUw5BAxI/",
      "include_colab_link": true
    },
    "kernelspec": {
      "name": "python3",
      "display_name": "Python 3"
    }
  },
  "cells": [
    {
      "cell_type": "markdown",
      "metadata": {
        "id": "view-in-github",
        "colab_type": "text"
      },
      "source": [
        "<a href=\"https://colab.research.google.com/github/SunitMitra/Sentiment-Analysis-Major-Project/blob/main/ML_MAJOR_JAN_ML_01BS4.ipynb\" target=\"_parent\"><img src=\"https://colab.research.google.com/assets/colab-badge.svg\" alt=\"Open In Colab\"/></a>"
      ]
    },
    {
      "cell_type": "code",
      "metadata": {
        "id": "jBjoEIEZKe0I"
      },
      "source": [
        "import pandas as pd\r\n",
        "\r\n",
        "import numpy as np\r\n",
        "\r\n",
        "import pickle\r\n",
        "\r\n",
        "import sys\r\n",
        "\r\n",
        "import os\r\n",
        "\r\n",
        "import io\r\n",
        "\r\n",
        "import re\r\n",
        "\r\n",
        "from sys import path\r\n",
        "\r\n",
        "import numpy as np\r\n",
        "\r\n",
        "import pickle\r\n",
        "\r\n",
        "import nltk\r\n",
        "\r\n",
        "from sklearn.feature_extraction.text import CountVectorizer\r\n",
        "\r\n",
        "from sklearn.naive_bayes import MultinomialNB\r\n",
        "\r\n",
        "from sklearn.model_selection import train_test_split\r\n",
        "\r\n",
        "from sklearn.preprocessing import LabelBinarizer\r\n",
        "\r\n",
        "import matplotlib.pyplot as plt\r\n",
        "\r\n",
        "from string import punctuation, digits\r\n",
        "\r\n",
        "from IPython.core.display import display, HTML\r\n",
        "\r\n",
        "from nltk.corpus import stopwords\r\n",
        "\r\n",
        "from nltk.corpus import stopwords\r\n",
        "\r\n",
        "from nltk.tokenize import word_tokenize\r\n",
        "\r\n",
        "from nltk.tokenize import RegexpTokenizer\r\n"
      ],
      "execution_count": null,
      "outputs": []
    },
    {
      "cell_type": "code",
      "metadata": {
        "colab": {
          "base_uri": "https://localhost:8080/",
          "height": 404
        },
        "id": "qGO4yTthKla2",
        "outputId": "731f99b0-547f-43fe-b562-1951de439bc7"
      },
      "source": [
        "#Amazon Data\r\n",
        "\r\n",
        "input_file =\"/content/amazon_cells_labelled.txt\"\r\n",
        "\r\n",
        "amazon = pd.read_csv(input_file,delimiter='\\t',header=None)\r\n",
        "\r\n",
        "amazon.columns = ['Sentence','Class']\r\n",
        "\r\n",
        "#Yelp Data\r\n",
        "\r\n",
        "input_file = \"/content/yelp_labelled.txt\"\r\n",
        "\r\n",
        "yelp = pd.read_csv(input_file,delimiter='\\t',header=None)\r\n",
        "\r\n",
        "yelp.columns = ['Sentence','Class']\r\n",
        "\r\n",
        "#Imdb Data\r\n",
        "\r\n",
        "input_file = \"/content/imdb_labelled.txt\"\r\n",
        "\r\n",
        "imdb = pd.read_csv(input_file,delimiter='\\t',header=None)\r\n",
        "\r\n",
        "imdb.columns = ['Sentence','Class']\r\n",
        "\r\n",
        "#combine all data sets\r\n",
        "\r\n",
        "data = pd.DataFrame()\r\n",
        "\r\n",
        "data = pd.concat([amazon, yelp, imdb])\r\n",
        "\r\n",
        "data['index'] = data.index\r\n",
        "\r\n",
        "data"
      ],
      "execution_count": null,
      "outputs": [
        {
          "output_type": "execute_result",
          "data": {
            "text/html": [
              "<div>\n",
              "<style scoped>\n",
              "    .dataframe tbody tr th:only-of-type {\n",
              "        vertical-align: middle;\n",
              "    }\n",
              "\n",
              "    .dataframe tbody tr th {\n",
              "        vertical-align: top;\n",
              "    }\n",
              "\n",
              "    .dataframe thead th {\n",
              "        text-align: right;\n",
              "    }\n",
              "</style>\n",
              "<table border=\"1\" class=\"dataframe\">\n",
              "  <thead>\n",
              "    <tr style=\"text-align: right;\">\n",
              "      <th></th>\n",
              "      <th>Sentence</th>\n",
              "      <th>Class</th>\n",
              "      <th>index</th>\n",
              "    </tr>\n",
              "  </thead>\n",
              "  <tbody>\n",
              "    <tr>\n",
              "      <th>0</th>\n",
              "      <td>So there is no way for me to plug it in here i...</td>\n",
              "      <td>0</td>\n",
              "      <td>0</td>\n",
              "    </tr>\n",
              "    <tr>\n",
              "      <th>1</th>\n",
              "      <td>Good case, Excellent value.</td>\n",
              "      <td>1</td>\n",
              "      <td>1</td>\n",
              "    </tr>\n",
              "    <tr>\n",
              "      <th>2</th>\n",
              "      <td>Great for the jawbone.</td>\n",
              "      <td>1</td>\n",
              "      <td>2</td>\n",
              "    </tr>\n",
              "    <tr>\n",
              "      <th>3</th>\n",
              "      <td>Tied to charger for conversations lasting more...</td>\n",
              "      <td>0</td>\n",
              "      <td>3</td>\n",
              "    </tr>\n",
              "    <tr>\n",
              "      <th>4</th>\n",
              "      <td>The mic is great.</td>\n",
              "      <td>1</td>\n",
              "      <td>4</td>\n",
              "    </tr>\n",
              "    <tr>\n",
              "      <th>...</th>\n",
              "      <td>...</td>\n",
              "      <td>...</td>\n",
              "      <td>...</td>\n",
              "    </tr>\n",
              "    <tr>\n",
              "      <th>743</th>\n",
              "      <td>I just got bored watching Jessice Lange take h...</td>\n",
              "      <td>0</td>\n",
              "      <td>743</td>\n",
              "    </tr>\n",
              "    <tr>\n",
              "      <th>744</th>\n",
              "      <td>Unfortunately, any virtue in this film's produ...</td>\n",
              "      <td>0</td>\n",
              "      <td>744</td>\n",
              "    </tr>\n",
              "    <tr>\n",
              "      <th>745</th>\n",
              "      <td>In a word, it is embarrassing.</td>\n",
              "      <td>0</td>\n",
              "      <td>745</td>\n",
              "    </tr>\n",
              "    <tr>\n",
              "      <th>746</th>\n",
              "      <td>Exceptionally bad!</td>\n",
              "      <td>0</td>\n",
              "      <td>746</td>\n",
              "    </tr>\n",
              "    <tr>\n",
              "      <th>747</th>\n",
              "      <td>All in all its an insult to one's intelligence...</td>\n",
              "      <td>0</td>\n",
              "      <td>747</td>\n",
              "    </tr>\n",
              "  </tbody>\n",
              "</table>\n",
              "<p>2748 rows × 3 columns</p>\n",
              "</div>"
            ],
            "text/plain": [
              "                                              Sentence  Class  index\n",
              "0    So there is no way for me to plug it in here i...      0      0\n",
              "1                          Good case, Excellent value.      1      1\n",
              "2                               Great for the jawbone.      1      2\n",
              "3    Tied to charger for conversations lasting more...      0      3\n",
              "4                                    The mic is great.      1      4\n",
              "..                                                 ...    ...    ...\n",
              "743  I just got bored watching Jessice Lange take h...      0    743\n",
              "744  Unfortunately, any virtue in this film's produ...      0    744\n",
              "745                   In a word, it is embarrassing.        0    745\n",
              "746                               Exceptionally bad!        0    746\n",
              "747  All in all its an insult to one's intelligence...      0    747\n",
              "\n",
              "[2748 rows x 3 columns]"
            ]
          },
          "metadata": {
            "tags": []
          },
          "execution_count": 24
        }
      ]
    },
    {
      "cell_type": "code",
      "metadata": {
        "colab": {
          "base_uri": "https://localhost:8080/",
          "height": 298
        },
        "id": "ztGtVby5Nvn5",
        "outputId": "a31730f8-ecec-42f9-cf6c-705425f6c7e7"
      },
      "source": [
        "#Total Count of Each Category\r\n",
        "\r\n",
        "pd.set_option('display.width', 4000)\r\n",
        "\r\n",
        "pd.set_option('display.max_rows', 1000)\r\n",
        "\r\n",
        "distOfDetails = data.groupby(by='Class', as_index=False).agg({'index': pd.Series.nunique}).sort_values(by='index', ascending=False)\r\n",
        "\r\n",
        "distOfDetails.columns =['Class', 'COUNT']\r\n",
        "\r\n",
        "print(distOfDetails)\r\n",
        "\r\n",
        "#Distribution of All Categories\r\n",
        "\r\n",
        "plt.pie(distOfDetails['COUNT'],autopct='%1.0f%%',shadow=True, startangle=360)\r\n",
        "\r\n",
        "plt.show()"
      ],
      "execution_count": null,
      "outputs": [
        {
          "output_type": "stream",
          "text": [
            "   Class  COUNT\n",
            "0      0    846\n",
            "1      1    827\n"
          ],
          "name": "stdout"
        },
        {
          "output_type": "display_data",
          "data": {
            "image/png": "[encoded data removed]",
            "text/plain": [
              "<Figure size 432x288 with 1 Axes>"
            ]
          },
          "metadata": {
            "tags": []
          }
        }
      ]
    },
    {
      "cell_type": "code",
      "metadata": {
        "id": "L0D6n3l2VKyV"
      },
      "source": [
        "#Text Preprocessing\r\n",
        "\r\n",
        "columns = ['index','Class', 'Sentence']\r\n",
        "\r\n",
        "df_ = pd.DataFrame(columns=columns)\r\n",
        "\r\n",
        "#lower string\r\n",
        "\r\n",
        "data['Sentence'] = data['Sentence'].str.lower()\r\n",
        "\r\n",
        "#remove email adress\r\n",
        "\r\n",
        "data['Sentence'] = data['Sentence'].replace('[a-zA-Z0-9-_.]+@[a-zA-Z0-9-_.]+', '', regex=True)\r\n",
        "\r\n",
        "#remove IP address\r\n",
        "\r\n",
        "data['Sentence'] = data['Sentence'].replace('((25[0-5]|2[0-4][0-9]|[01]?[0-9][0-9]?)(\\.|$)){4}', '', regex=True)\r\n",
        "\r\n",
        "#remove punctaitions and special chracters\r\n",
        "\r\n",
        "data['Sentence'] = data['Sentence'].str.replace('[^\\w\\s]','')\r\n",
        "\r\n",
        "#remove numbers\r\n",
        "\r\n",
        "data['Sentence'] = data['Sentence'].replace('\\d', '', regex=True)\r\n",
        "\r\n",
        "#remove stop words\r\n",
        "\r\n",
        "for index, row in data.iterrows():\r\n",
        "\r\n",
        "    word_tokens = word_tokenize(row['Sentence'])\r\n",
        "\r\n",
        "    filtered_sentence = [w for w in word_tokens if not w in stopwords.words('english')]\r\n",
        "\r\n",
        "    df_ = df_.append({\"index\": row['index'], \"Class\":  row['Class'],\"Sentence\": \" \".join(filtered_sentence[0:])}, ignore_index=True)\r\n",
        "\r\n",
        "data = df_"
      ],
      "execution_count": null,
      "outputs": []
    },
    {
      "cell_type": "code",
      "metadata": {
        "id": "nMewp263Ry20"
      },
      "source": [
        "X_train, X_test, y_train, y_test = train_test_split(data['Sentence'].values.astype('U'),data['Class'].values.astype('int32'), test_size=0.10, random_state=0)\r\n",
        "\r\n",
        "classes  = data['Class'].unique()"
      ],
      "execution_count": null,
      "outputs": []
    },
    {
      "cell_type": "code",
      "metadata": {
        "id": "6gbQq5t6TEVy"
      },
      "source": [
        "from sklearn.metrics import confusion_matrix\r\n",
        "\r\n",
        "from sklearn.model_selection import cross_val_score\r\n",
        "\r\n",
        "from sklearn.metrics import accuracy_score\r\n",
        "\r\n",
        "from sklearn.neural_network import MLPClassifier\r\n",
        "\r\n",
        "from sklearn.feature_extraction.text import TfidfVectorizer\r\n",
        "\r\n",
        "from sklearn.linear_model import SGDClassifier\r\n",
        "\r\n",
        "#grid search result\r\n",
        "\r\n",
        "vectorizer = TfidfVectorizer(analyzer='word',ngram_range=(1,2), max_features=50000,max_df=0.5,use_idf=True, norm='l2') \r\n",
        "\r\n",
        "counts = vectorizer.fit_transform(X_train)\r\n",
        "\r\n",
        "vocab = vectorizer.vocabulary_\r\n",
        "\r\n",
        "classifier = SGDClassifier(alpha=1e-05,max_iter=50,penalty='elasticnet')\r\n",
        "\r\n",
        "targets = y_train\r\n",
        "\r\n",
        "classifier = classifier.fit(counts, targets)\r\n",
        "\r\n",
        "example_counts = vectorizer.transform(X_test)\r\n",
        "\r\n",
        "predictions = classifier.predict(example_counts)"
      ],
      "execution_count": null,
      "outputs": []
    },
    {
      "cell_type": "code",
      "metadata": {
        "colab": {
          "base_uri": "https://localhost:8080/"
        },
        "id": "ZBpk6mk5TZsX",
        "outputId": "553002ac-abe3-4b29-9102-0ccbd1505011"
      },
      "source": [
        "from sklearn.metrics import precision_score\r\n",
        "\r\n",
        "from sklearn.metrics import recall_score\r\n",
        "\r\n",
        "from sklearn.metrics import classification_report\r\n",
        "\r\n",
        "#Model Evaluation\r\n",
        "\r\n",
        "acc = accuracy_score(y_test, predictions, normalize=True)\r\n",
        "\r\n",
        "hit = precision_score(y_test, predictions, average=None,labels=classes)\r\n",
        "\r\n",
        "capture = recall_score(y_test, predictions, average=None,labels=classes)\r\n",
        "\r\n",
        "print('Model Accuracy:%.2f'%acc)\r\n",
        "\r\n",
        "print(classification_report(y_test, predictions))"
      ],
      "execution_count": null,
      "outputs": [
        {
          "output_type": "stream",
          "text": [
            "Model Accuracy:0.82\n",
            "              precision    recall  f1-score   support\n",
            "\n",
            "           0       0.82      0.83      0.83       139\n",
            "           1       0.83      0.81      0.82       136\n",
            "\n",
            "    accuracy                           0.82       275\n",
            "   macro avg       0.82      0.82      0.82       275\n",
            "weighted avg       0.82      0.82      0.82       275\n",
            "\n"
          ],
          "name": "stdout"
        }
      ]
    },
    {
      "cell_type": "code",
      "metadata": {
        "id": "ZBHaiwXyTc_0"
      },
      "source": [
        "#source: https://www.kaggle.com/grfiv4/plot-a-confusion-matrix\r\n",
        "\r\n",
        "import itertools\r\n",
        "\r\n",
        "def plot_confusion_matrix(cm, classes,\r\n",
        "\r\n",
        "                          normalize=False,\r\n",
        "\r\n",
        "                          title='Confusion matrix',\r\n",
        "\r\n",
        "                          cmap=plt.cm.Blues):\r\n",
        "\r\n",
        "    \"\"\"\r\n",
        "\r\n",
        "    This function prints and plots the confusion matrix.\r\n",
        "\r\n",
        "    Normalization can be applied by setting `normalize=True`.\r\n",
        "\r\n",
        "    \"\"\"\r\n",
        "\r\n",
        "    if normalize:\r\n",
        "\r\n",
        "        cm = cm.astype('float') / cm.sum(axis=1)[:, np.newaxis]\r\n",
        "\r\n",
        "        #print(\"Normalized confusion matrix\")\r\n",
        "\r\n",
        "    else:\r\n",
        "\r\n",
        "        print()\r\n",
        "\r\n",
        "    plt.imshow(cm, interpolation='nearest', cmap=cmap, aspect='auto')\r\n",
        "\r\n",
        "    plt.title(title)\r\n",
        "\r\n",
        "    plt.colorbar()\r\n",
        "\r\n",
        "    tick_marks = np.arange(len(classes))\r\n",
        "\r\n",
        "    plt.xticks(tick_marks, classes, rotation=45)\r\n",
        "\r\n",
        "    plt.yticks(tick_marks, classes)\r\n",
        "\r\n",
        "    fmt = '.2f' if normalize else 'd'\r\n",
        "\r\n",
        "    thresh = cm.max() / 2.\r\n",
        "\r\n",
        "    for i, j in itertools.product(range(cm.shape[0]), range(cm.shape[1])):\r\n",
        "\r\n",
        "        plt.text(j, i, format(cm[i, j], fmt),\r\n",
        "\r\n",
        "                 horizontalalignment=\"center\",\r\n",
        "\r\n",
        "                 color=\"white\" if cm[i, j] > thresh else \"black\")\r\n",
        "\r\n",
        "    plt.tight_layout()\r\n",
        "\r\n",
        "    plt.ylabel('True label')\r\n",
        "\r\n",
        "    plt.xlabel('Predicted label')\r\n",
        "\r\n",
        "    plt.figure(figsize=(150,100))"
      ],
      "execution_count": null,
      "outputs": []
    },
    {
      "cell_type": "code",
      "metadata": {
        "colab": {
          "base_uri": "https://localhost:8080/",
          "height": 435
        },
        "id": "N2Sf1l7hThIf",
        "outputId": "3fe450b4-7963-4573-9244-936b85eb7633"
      },
      "source": [
        "# Compute confusion matrix\r\n",
        "\r\n",
        "cnf_matrix = confusion_matrix(y_test, predictions,classes)\r\n",
        "\r\n",
        "np.set_printoptions(precision=2)\r\n",
        "\r\n",
        "class_names = range(1,classes.size+1)\r\n",
        "\r\n",
        "# Plot non-normalized confusion matrix\r\n",
        "\r\n",
        "plt.figure()\r\n",
        "\r\n",
        "plot_confusion_matrix(cnf_matrix, classes=class_names,title='Confusion matrix, without normalization')\r\n",
        "\r\n",
        "classInfo = pd.DataFrame(data=[])\r\n",
        "\r\n",
        "for i in range(0,classes.size):\r\n",
        "\r\n",
        "    classInfo = classInfo.append([[classes[i],i+1]],ignore_index=True)\r\n",
        "\r\n",
        "classInfo.columns=['Category','Index']\r\n",
        "\r\n",
        "classInfo\r\n"
      ],
      "execution_count": null,
      "outputs": [
        {
          "output_type": "stream",
          "text": [
            "\n"
          ],
          "name": "stdout"
        },
        {
          "output_type": "execute_result",
          "data": {
            "text/html": [
              "<div>\n",
              "<style scoped>\n",
              "    .dataframe tbody tr th:only-of-type {\n",
              "        vertical-align: middle;\n",
              "    }\n",
              "\n",
              "    .dataframe tbody tr th {\n",
              "        vertical-align: top;\n",
              "    }\n",
              "\n",
              "    .dataframe thead th {\n",
              "        text-align: right;\n",
              "    }\n",
              "</style>\n",
              "<table border=\"1\" class=\"dataframe\">\n",
              "  <thead>\n",
              "    <tr style=\"text-align: right;\">\n",
              "      <th></th>\n",
              "      <th>Category</th>\n",
              "      <th>Index</th>\n",
              "    </tr>\n",
              "  </thead>\n",
              "  <tbody>\n",
              "    <tr>\n",
              "      <th>0</th>\n",
              "      <td>0</td>\n",
              "      <td>1</td>\n",
              "    </tr>\n",
              "    <tr>\n",
              "      <th>1</th>\n",
              "      <td>1</td>\n",
              "      <td>2</td>\n",
              "    </tr>\n",
              "  </tbody>\n",
              "</table>\n",
              "</div>"
            ],
            "text/plain": [
              "   Category  Index\n",
              "0         0      1\n",
              "1         1      2"
            ]
          },
          "metadata": {
            "tags": []
          },
          "execution_count": 32
        },
        {
          "output_type": "display_data",
          "data": {
            "image/png": "[encoded data removed]",
            "text/plain": [
              "<Figure size 432x288 with 2 Axes>"
            ]
          },
          "metadata": {
            "tags": [],
            "needs_background": "light"
          }
        },
        {
          "output_type": "display_data",
          "data": {
            "text/plain": [
              "<Figure size 10800x7200 with 0 Axes>"
            ]
          },
          "metadata": {
            "tags": []
          }
        }
      ]
    },
    {
      "cell_type": "code",
      "metadata": {
        "id": "qNI9PW8uTl2G"
      },
      "source": [
        ""
      ],
      "execution_count": null,
      "outputs": []
    }
  ]
}